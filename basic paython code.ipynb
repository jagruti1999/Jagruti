{
 "cells": [
  {
   "cell_type": "markdown",
   "id": "6eb55a60-3f1f-412d-abc1-cae8aaf0e091",
   "metadata": {},
   "source": [
    "PAYTHON TUTORIAL"
   ]
  },
  {
   "cell_type": "code",
   "execution_count": 2,
   "id": "a6f8422d-31cd-45f3-bcf1-ca94e9c6d5c9",
   "metadata": {},
   "outputs": [],
   "source": [
    "import sys\n",
    "import keyword\n",
    "import operator\n",
    "from datetime import datetime\n",
    "import os"
   ]
  },
  {
   "cell_type": "markdown",
   "id": "bd7072ea-79d8-4883-be30-416b4b447e27",
   "metadata": {},
   "source": [
    "KEYWORD"
   ]
  },
  {
   "cell_type": "code",
   "execution_count": 5,
   "id": "cb7b2111-b5f1-4065-a21b-ed640284fc60",
   "metadata": {},
   "outputs": [
    {
     "name": "stdout",
     "output_type": "stream",
     "text": [
      "['False', 'None', 'True', 'and', 'as', 'assert', 'async', 'await', 'break', 'class', 'continue', 'def', 'del', 'elif', 'else', 'except', 'finally', 'for', 'from', 'global', 'if', 'import', 'in', 'is', 'lambda', 'nonlocal', 'not', 'or', 'pass', 'raise', 'return', 'try', 'while', 'with', 'yield']\n"
     ]
    }
   ],
   "source": [
    "print(keyword.kwlist) #list all paython keyword"
   ]
  },
  {
   "cell_type": "code",
   "execution_count": 7,
   "id": "5b6b8048-c268-4829-8b0d-2a87d064f9a7",
   "metadata": {},
   "outputs": [
    {
     "data": {
      "text/plain": [
       "35"
      ]
     },
     "execution_count": 7,
     "metadata": {},
     "output_type": "execute_result"
    }
   ],
   "source": [
    "len(keyword.kwlist) #python contain 35 keyword"
   ]
  },
  {
   "cell_type": "markdown",
   "id": "1d4eac15-73ea-4fc4-beb6-7f5ae2742549",
   "metadata": {},
   "source": [
    "IDENTIFIERS"
   ]
  },
  {
   "cell_type": "code",
   "execution_count": 12,
   "id": "5f85471f-59a2-47a8-b786-3fc70b625f5b",
   "metadata": {},
   "outputs": [
    {
     "name": "stderr",
     "output_type": "stream",
     "text": [
      "<>:1: SyntaxWarning: invalid decimal literal\n",
      "<>:1: SyntaxWarning: invalid decimal literal\n",
      "C:\\Users\\JAGRUTI\\AppData\\Local\\Temp\\ipykernel_4976\\3737247390.py:1: SyntaxWarning: invalid decimal literal\n",
      "  1int = 10 #identifier can't start with a digit\n"
     ]
    },
    {
     "ename": "SyntaxError",
     "evalue": "invalid syntax (3737247390.py, line 1)",
     "output_type": "error",
     "traceback": [
      "\u001b[1;36m  Cell \u001b[1;32mIn[12], line 1\u001b[1;36m\u001b[0m\n\u001b[1;33m    1int = 10 #identifier can't start with a digit\u001b[0m\n\u001b[1;37m     ^\u001b[0m\n\u001b[1;31mSyntaxError\u001b[0m\u001b[1;31m:\u001b[0m invalid syntax\n"
     ]
    }
   ],
   "source": [
    "1int = 10 #identifier can't start with a digit"
   ]
  },
  {
   "cell_type": "code",
   "execution_count": 14,
   "id": "9cddc834-d3ca-4325-a67c-f5a0885c1b1f",
   "metadata": {},
   "outputs": [
    {
     "ename": "SyntaxError",
     "evalue": "invalid syntax (1247614997.py, line 1)",
     "output_type": "error",
     "traceback": [
      "\u001b[1;36m  Cell \u001b[1;32mIn[14], line 1\u001b[1;36m\u001b[0m\n\u001b[1;33m    int2@ = 35 #identifier can't use special symbols\u001b[0m\n\u001b[1;37m          ^\u001b[0m\n\u001b[1;31mSyntaxError\u001b[0m\u001b[1;31m:\u001b[0m invalid syntax\n"
     ]
    }
   ],
   "source": [
    "int2@ = 35 #identifier can't use special symbols"
   ]
  },
  {
   "cell_type": "code",
   "execution_count": 16,
   "id": "e2150af1-e9c4-4b29-becc-6132c8e5f1bb",
   "metadata": {},
   "outputs": [
    {
     "ename": "SyntaxError",
     "evalue": "invalid syntax (3636144694.py, line 1)",
     "output_type": "error",
     "traceback": [
      "\u001b[1;36m  Cell \u001b[1;32mIn[16], line 1\u001b[1;36m\u001b[0m\n\u001b[1;33m    import =125 #keywords can't be used as identifier\u001b[0m\n\u001b[1;37m           ^\u001b[0m\n\u001b[1;31mSyntaxError\u001b[0m\u001b[1;31m:\u001b[0m invalid syntax\n"
     ]
    }
   ],
   "source": [
    "import =125 #keywords can't be used as identifier"
   ]
  },
  {
   "cell_type": "code",
   "execution_count": 18,
   "id": "cd99fb8d-fc7a-4e89-ba41-36a0ef6fac14",
   "metadata": {},
   "outputs": [],
   "source": [
    "int2=10"
   ]
  },
  {
   "cell_type": "code",
   "execution_count": 20,
   "id": "63adf22e-31e9-40ba-9437-6fc8441b889c",
   "metadata": {},
   "outputs": [],
   "source": [
    "int_=99"
   ]
  },
  {
   "cell_type": "markdown",
   "id": "d5485218-8527-4b03-ac41-53924bbdfa32",
   "metadata": {},
   "source": [
    "FLOAT"
   ]
  },
  {
   "cell_type": "code",
   "execution_count": 2,
   "id": "ca8fb708-7f09-4742-b4c7-86dd09cb58f3",
   "metadata": {},
   "outputs": [
    {
     "data": {
      "text/plain": [
       "110.67"
      ]
     },
     "execution_count": 2,
     "metadata": {},
     "output_type": "execute_result"
    }
   ],
   "source": [
    "f=110.67\n",
    "f"
   ]
  },
  {
   "cell_type": "code",
   "execution_count": 4,
   "id": "1b05bc93-0fae-48b5-8b1d-73b472cf3cab",
   "metadata": {},
   "outputs": [
    {
     "data": {
      "text/plain": [
       "float"
      ]
     },
     "execution_count": 4,
     "metadata": {},
     "output_type": "execute_result"
    }
   ],
   "source": [
    "type(f)"
   ]
  },
  {
   "cell_type": "code",
   "execution_count": 6,
   "id": "7c7b4b7f-264e-4d25-a119-4426217f0da6",
   "metadata": {},
   "outputs": [
    {
     "data": {
      "text/plain": [
       "1.0"
      ]
     },
     "execution_count": 6,
     "metadata": {},
     "output_type": "execute_result"
    }
   ],
   "source": [
    "f=1e0\n",
    "f"
   ]
  },
  {
   "cell_type": "code",
   "execution_count": 8,
   "id": "4ca97849-0770-4347-967f-12639da70472",
   "metadata": {},
   "outputs": [
    {
     "data": {
      "text/plain": [
       "10.0"
      ]
     },
     "execution_count": 8,
     "metadata": {},
     "output_type": "execute_result"
    }
   ],
   "source": [
    "f2=1e1\n",
    "f2"
   ]
  },
  {
   "cell_type": "code",
   "execution_count": 10,
   "id": "95ea713c-435a-43dd-81f3-927c6f4df630",
   "metadata": {},
   "outputs": [
    {
     "data": {
      "text/plain": [
       "200.0"
      ]
     },
     "execution_count": 10,
     "metadata": {},
     "output_type": "execute_result"
    }
   ],
   "source": [
    "f3=2e2\n",
    "f3"
   ]
  },
  {
   "cell_type": "code",
   "execution_count": 12,
   "id": "f6752c5e-34fd-4555-9755-1ac9bc928a52",
   "metadata": {},
   "outputs": [
    {
     "data": {
      "text/plain": [
       "3000.0"
      ]
     },
     "execution_count": 12,
     "metadata": {},
     "output_type": "execute_result"
    }
   ],
   "source": [
    "f4=3E3\n",
    "f4"
   ]
  },
  {
   "cell_type": "code",
   "execution_count": 14,
   "id": "5b50e0f0-e13d-4c48-bde2-b77bdd5aa871",
   "metadata": {},
   "outputs": [
    {
     "ename": "SyntaxError",
     "evalue": "invalid decimal literal (896374923.py, line 1)",
     "output_type": "error",
     "traceback": [
      "\u001b[1;36m  Cell \u001b[1;32mIn[14], line 1\u001b[1;36m\u001b[0m\n\u001b[1;33m    f5=4m5\u001b[0m\n\u001b[1;37m       ^\u001b[0m\n\u001b[1;31mSyntaxError\u001b[0m\u001b[1;31m:\u001b[0m invalid decimal literal\n"
     ]
    }
   ],
   "source": [
    "f5=4m5\n",
    "f5"
   ]
  },
  {
   "cell_type": "markdown",
   "id": "7db67967-cf0b-4420-a3be-e6767ec24b86",
   "metadata": {},
   "source": [
    "BOOLEAN"
   ]
  },
  {
   "cell_type": "code",
   "execution_count": 23,
   "id": "1d69adba-fb76-426f-aafd-700199eff77d",
   "metadata": {},
   "outputs": [],
   "source": [
    "bool1= True"
   ]
  },
  {
   "cell_type": "code",
   "execution_count": 25,
   "id": "14e6af7b-b861-4781-b354-eba611a6c6cb",
   "metadata": {},
   "outputs": [],
   "source": [
    "bool2= False"
   ]
  },
  {
   "cell_type": "code",
   "execution_count": 27,
   "id": "e8541520-ae13-4f47-a4c1-31ef530b7f06",
   "metadata": {},
   "outputs": [
    {
     "name": "stdout",
     "output_type": "stream",
     "text": [
      "<class 'bool'>\n"
     ]
    }
   ],
   "source": [
    "print(type(bool1))"
   ]
  },
  {
   "cell_type": "code",
   "execution_count": 29,
   "id": "87d51e79-cebc-45f0-af20-687aa351172a",
   "metadata": {},
   "outputs": [
    {
     "name": "stdout",
     "output_type": "stream",
     "text": [
      "<class 'bool'>\n"
     ]
    }
   ],
   "source": [
    "print(type(bool2))"
   ]
  },
  {
   "cell_type": "code",
   "execution_count": 33,
   "id": "755acc4f-6dcf-4fe3-8ed2-ca798fc86f97",
   "metadata": {},
   "outputs": [
    {
     "data": {
      "text/plain": [
       "False"
      ]
     },
     "execution_count": 33,
     "metadata": {},
     "output_type": "execute_result"
    }
   ],
   "source": [
    "bool(0)"
   ]
  },
  {
   "cell_type": "code",
   "execution_count": 35,
   "id": "856fcf88-7ffc-4b34-b796-e3861a726cd9",
   "metadata": {},
   "outputs": [
    {
     "data": {
      "text/plain": [
       "True"
      ]
     },
     "execution_count": 35,
     "metadata": {},
     "output_type": "execute_result"
    }
   ],
   "source": [
    "bool(1)"
   ]
  },
  {
   "cell_type": "code",
   "execution_count": 39,
   "id": "cdacb07c-6fcf-465c-a22b-9c11ced90f35",
   "metadata": {},
   "outputs": [
    {
     "data": {
      "text/plain": [
       "False"
      ]
     },
     "execution_count": 39,
     "metadata": {},
     "output_type": "execute_result"
    }
   ],
   "source": [
    "bool(None)"
   ]
  },
  {
   "cell_type": "code",
   "execution_count": 41,
   "id": "a93ab066-dd99-43be-893c-8138c9221754",
   "metadata": {},
   "outputs": [
    {
     "data": {
      "text/plain": [
       "False"
      ]
     },
     "execution_count": 41,
     "metadata": {},
     "output_type": "execute_result"
    }
   ],
   "source": [
    "bool(False)"
   ]
  },
  {
   "cell_type": "markdown",
   "id": "e6b34853-e64b-4822-8ce1-f1d2a143a92f",
   "metadata": {},
   "source": [
    "STRINGS"
   ]
  },
  {
   "cell_type": "code",
   "execution_count": 44,
   "id": "969c6f21-8ab2-448c-b14b-cb1c994e2e7a",
   "metadata": {},
   "outputs": [
    {
     "name": "stdout",
     "output_type": "stream",
     "text": [
      "HELLO PYTHON\n"
     ]
    }
   ],
   "source": [
    "str1 = 'HELLO PYTHON' #define string using single quotes (')\n",
    "print(str1)"
   ]
  },
  {
   "cell_type": "code",
   "execution_count": 48,
   "id": "e979f515-c964-4b03-86a8-c4352c4f2ece",
   "metadata": {},
   "outputs": [
    {
     "name": "stdout",
     "output_type": "stream",
     "text": [
      "HELLO WORLD\n"
     ]
    }
   ],
   "source": [
    "str2 = \"HELLO WORLD\" #define string using double qoutes (\")\n",
    "print(str2)"
   ]
  },
  {
   "cell_type": "code",
   "execution_count": 52,
   "id": "c0c1a46d-d765-4a8d-9efb-c80c21f5a2b6",
   "metadata": {},
   "outputs": [
    {
     "name": "stdout",
     "output_type": "stream",
     "text": [
      "HELLO WORLD\n"
     ]
    }
   ],
   "source": [
    "str3 = \"\"\"HELLO WORLD\"\"\" #define string using triple quotes(\"\"\")\n",
    "print (str3)"
   ]
  },
  {
   "cell_type": "code",
   "execution_count": 60,
   "id": "68641ea1-e85a-4038-b606-1690fafc1044",
   "metadata": {},
   "outputs": [
    {
     "name": "stdout",
     "output_type": "stream",
     "text": [
      "HappyMondayEveryone\n"
     ]
    }
   ],
   "source": [
    "str =('Happy'\n",
    "    'Monday'\n",
    "    'Everyone')\n",
    "print(str)"
   ]
  },
  {
   "cell_type": "code",
   "execution_count": 62,
   "id": "d040b500-f3fd-45cd-bcae-8669d24fa86b",
   "metadata": {},
   "outputs": [
    {
     "data": {
      "text/plain": [
       "'WoohooWoohooWoohooWoohooWoohoo'"
      ]
     },
     "execution_count": 62,
     "metadata": {},
     "output_type": "execute_result"
    }
   ],
   "source": [
    "str4 ='Woohoo'\n",
    "str4 =str4*5\n",
    "str4"
   ]
  },
  {
   "cell_type": "code",
   "execution_count": 64,
   "id": "2f583348-2fa3-4412-b97c-6558bc0cf5cc",
   "metadata": {},
   "outputs": [
    {
     "data": {
      "text/plain": [
       "30"
      ]
     },
     "execution_count": 64,
     "metadata": {},
     "output_type": "execute_result"
    }
   ],
   "source": [
    "len (str4)"
   ]
  },
  {
   "cell_type": "markdown",
   "id": "97d0145c-04d9-4553-8496-518465e8cd10",
   "metadata": {},
   "source": [
    "STRING INDEXING"
   ]
  },
  {
   "cell_type": "code",
   "execution_count": 67,
   "id": "f300cc6b-3796-4224-bec2-5248791f877f",
   "metadata": {},
   "outputs": [
    {
     "data": {
      "text/plain": [
       "'HELLO PYTHON'"
      ]
     },
     "execution_count": 67,
     "metadata": {},
     "output_type": "execute_result"
    }
   ],
   "source": [
    "str1"
   ]
  },
  {
   "cell_type": "code",
   "execution_count": 69,
   "id": "30e47c8b-781b-48e2-bb48-f20f30fbb568",
   "metadata": {},
   "outputs": [
    {
     "data": {
      "text/plain": [
       "'H'"
      ]
     },
     "execution_count": 69,
     "metadata": {},
     "output_type": "execute_result"
    }
   ],
   "source": [
    "str1[0] #first character in string "
   ]
  },
  {
   "cell_type": "code",
   "execution_count": 71,
   "id": "648d1b27-2b7e-4cdf-86a4-79cc0361cf62",
   "metadata": {},
   "outputs": [
    {
     "data": {
      "text/plain": [
       "'N'"
      ]
     },
     "execution_count": 71,
     "metadata": {},
     "output_type": "execute_result"
    }
   ],
   "source": [
    "str1[len(str1)-1] #list character in string using len function"
   ]
  },
  {
   "cell_type": "code",
   "execution_count": 73,
   "id": "6f05f0e9-6dcf-4aac-8707-19d688ac36ab",
   "metadata": {},
   "outputs": [
    {
     "data": {
      "text/plain": [
       "'N'"
      ]
     },
     "execution_count": 73,
     "metadata": {},
     "output_type": "execute_result"
    }
   ],
   "source": [
    "str1[-1] #last character in string"
   ]
  },
  {
   "cell_type": "code",
   "execution_count": 75,
   "id": "49373ec5-b969-4a2a-9901-faafeb11e39d",
   "metadata": {},
   "outputs": [
    {
     "data": {
      "text/plain": [
       "'P'"
      ]
     },
     "execution_count": 75,
     "metadata": {},
     "output_type": "execute_result"
    }
   ],
   "source": [
    "str1[6] #fetch 7th element of the string"
   ]
  },
  {
   "cell_type": "code",
   "execution_count": 77,
   "id": "1cbc1848-0824-47a0-8da0-3567de1ca785",
   "metadata": {},
   "outputs": [
    {
     "data": {
      "text/plain": [
       "' '"
      ]
     },
     "execution_count": 77,
     "metadata": {},
     "output_type": "execute_result"
    }
   ],
   "source": [
    "str1[5]"
   ]
  },
  {
   "cell_type": "markdown",
   "id": "2d957272-a4ad-4188-944c-813ec5a04555",
   "metadata": {},
   "source": [
    "STRING SLICING"
   ]
  },
  {
   "cell_type": "code",
   "execution_count": 80,
   "id": "33a89e31-e5af-4e14-91c9-227b50952727",
   "metadata": {},
   "outputs": [
    {
     "data": {
      "text/plain": [
       "'HELLO'"
      ]
     },
     "execution_count": 80,
     "metadata": {},
     "output_type": "execute_result"
    }
   ],
   "source": [
    "str1[0:5] #string slicing - fetch all character from 0to5 index location"
   ]
  },
  {
   "cell_type": "code",
   "execution_count": 82,
   "id": "66c008cb-3b69-43d6-9592-aa12dcb61ff0",
   "metadata": {},
   "outputs": [
    {
     "data": {
      "text/plain": [
       "'PYTHON'"
      ]
     },
     "execution_count": 82,
     "metadata": {},
     "output_type": "execute_result"
    }
   ],
   "source": [
    "str1[6:12] #Retreive all character between 6 to 12 index location"
   ]
  },
  {
   "cell_type": "code",
   "execution_count": 84,
   "id": "c536db0b-c0aa-400f-9349-9f0f86a3f30d",
   "metadata": {},
   "outputs": [
    {
     "data": {
      "text/plain": [
       "'PYTHON'"
      ]
     },
     "execution_count": 84,
     "metadata": {},
     "output_type": "execute_result"
    }
   ],
   "source": [
    "str1[6:] #retreive last six character of the string"
   ]
  },
  {
   "cell_type": "code",
   "execution_count": 86,
   "id": "98c77636-9da4-4733-ad1c-55d94b78a985",
   "metadata": {},
   "outputs": [
    {
     "data": {
      "text/plain": [
       "'HELLO '"
      ]
     },
     "execution_count": 86,
     "metadata": {},
     "output_type": "execute_result"
    }
   ],
   "source": [
    "str1[:6] #retreive first six character of the string"
   ]
  },
  {
   "cell_type": "markdown",
   "id": "6be38dce-d962-4f2f-946d-767a72a65e7a",
   "metadata": {},
   "source": [
    "COMPLEX (a+bj)"
   ]
  },
  {
   "cell_type": "code",
   "execution_count": 17,
   "id": "1bf54b10-0e05-415e-bd63-5c72c3b5f4a4",
   "metadata": {},
   "outputs": [
    {
     "data": {
      "text/plain": [
       "(10+20j)"
      ]
     },
     "execution_count": 17,
     "metadata": {},
     "output_type": "execute_result"
    }
   ],
   "source": [
    "c = 10+20j\n",
    "c"
   ]
  },
  {
   "cell_type": "code",
   "execution_count": 19,
   "id": "3191d759-9184-45d1-b407-4835364df8c1",
   "metadata": {},
   "outputs": [
    {
     "data": {
      "text/plain": [
       "complex"
      ]
     },
     "execution_count": 19,
     "metadata": {},
     "output_type": "execute_result"
    }
   ],
   "source": [
    "type(c)"
   ]
  },
  {
   "cell_type": "code",
   "execution_count": 21,
   "id": "f83b8675-f7ad-4892-b33b-b73e5c4c7211",
   "metadata": {},
   "outputs": [
    {
     "data": {
      "text/plain": [
       "10.0"
      ]
     },
     "execution_count": 21,
     "metadata": {},
     "output_type": "execute_result"
    }
   ],
   "source": [
    "c.real"
   ]
  },
  {
   "cell_type": "code",
   "execution_count": 25,
   "id": "4f4a5641-dbf8-4a04-82a1-a2b48308854d",
   "metadata": {},
   "outputs": [
    {
     "data": {
      "text/plain": [
       "20.0"
      ]
     },
     "execution_count": 25,
     "metadata": {},
     "output_type": "execute_result"
    }
   ],
   "source": [
    "c.imag"
   ]
  },
  {
   "cell_type": "code",
   "execution_count": 27,
   "id": "353ef0a4-72d4-4153-a176-9825c8d23ea5",
   "metadata": {},
   "outputs": [
    {
     "data": {
      "text/plain": [
       "(20+30j)"
      ]
     },
     "execution_count": 27,
     "metadata": {},
     "output_type": "execute_result"
    }
   ],
   "source": [
    "d=20+30j\n",
    "d"
   ]
  },
  {
   "cell_type": "code",
   "execution_count": 29,
   "id": "718e8fec-4d0e-4ef3-a0e2-f806f2badef5",
   "metadata": {},
   "outputs": [
    {
     "name": "stdout",
     "output_type": "stream",
     "text": [
      "(10+20j)\n",
      "(20+30j)\n"
     ]
    }
   ],
   "source": [
    "print(c)\n",
    "print(d)"
   ]
  },
  {
   "cell_type": "code",
   "execution_count": 33,
   "id": "8b52ef32-2de6-4d7f-8993-d7a00bef57b5",
   "metadata": {},
   "outputs": [
    {
     "data": {
      "text/plain": [
       "(30+50j)"
      ]
     },
     "execution_count": 33,
     "metadata": {},
     "output_type": "execute_result"
    }
   ],
   "source": [
    "e=c+d\n",
    "e"
   ]
  },
  {
   "cell_type": "code",
   "execution_count": 35,
   "id": "a971bc3e-a087-47cb-8148-367ee84eae4c",
   "metadata": {},
   "outputs": [
    {
     "data": {
      "text/plain": [
       "complex"
      ]
     },
     "execution_count": 35,
     "metadata": {},
     "output_type": "execute_result"
    }
   ],
   "source": [
    "type(e)"
   ]
  },
  {
   "cell_type": "markdown",
   "id": "4cbb14fd-6dd0-4801-a229-2ad3e8405b00",
   "metadata": {},
   "source": [
    "LIST"
   ]
  },
  {
   "cell_type": "code",
   "execution_count": 2,
   "id": "32180b55-de97-4573-885d-a1ffef92daed",
   "metadata": {},
   "outputs": [],
   "source": [
    "l=[]"
   ]
  },
  {
   "cell_type": "code",
   "execution_count": 10,
   "id": "290484e0-9444-4936-a99c-04b0e7dca45e",
   "metadata": {},
   "outputs": [
    {
     "data": {
      "text/plain": [
       "list"
      ]
     },
     "execution_count": 10,
     "metadata": {},
     "output_type": "execute_result"
    }
   ],
   "source": [
    "type(l)"
   ]
  },
  {
   "cell_type": "code",
   "execution_count": 14,
   "id": "b5d56532-ba3e-4738-99be-2e5f1945500d",
   "metadata": {},
   "outputs": [],
   "source": [
    "l_ =list()"
   ]
  },
  {
   "cell_type": "code",
   "execution_count": 16,
   "id": "828e955e-f2b2-47b9-9f67-409a46e9d520",
   "metadata": {},
   "outputs": [
    {
     "data": {
      "text/plain": [
       "[10]"
      ]
     },
     "execution_count": 16,
     "metadata": {},
     "output_type": "execute_result"
    }
   ],
   "source": [
    "l.append(10)\n",
    "l"
   ]
  },
  {
   "cell_type": "code",
   "execution_count": 18,
   "id": "e460df52-8b48-4b81-87a0-260938f6de0e",
   "metadata": {},
   "outputs": [
    {
     "data": {
      "text/plain": [
       "[10]"
      ]
     },
     "execution_count": 18,
     "metadata": {},
     "output_type": "execute_result"
    }
   ],
   "source": [
    "l"
   ]
  },
  {
   "cell_type": "code",
   "execution_count": 3,
   "id": "5892f851-4389-4a26-adf1-056753c43060",
   "metadata": {},
   "outputs": [],
   "source": [
    "l1=[10,30,60] #list of integers number"
   ]
  },
  {
   "cell_type": "code",
   "execution_count": 5,
   "id": "d8225a97-d712-43d4-a432-10abbdcc72b8",
   "metadata": {},
   "outputs": [],
   "source": [
    "l2 = [10.77, 30.66, 60.89] #List of float number"
   ]
  },
  {
   "cell_type": "code",
   "execution_count": 7,
   "id": "6f9be05f-59d4-4a04-b086-38ce6f1d5773",
   "metadata": {},
   "outputs": [],
   "source": [
    "l3 = ['one','two',\"three\"] #List of strings"
   ]
  },
  {
   "cell_type": "code",
   "execution_count": 9,
   "id": "4673f838-5c50-489e-aaba-e553e0ce9c0b",
   "metadata": {},
   "outputs": [],
   "source": [
    "l4 = ['Asif',25,[50,100],[150,90]] #Nested Lists"
   ]
  },
  {
   "cell_type": "code",
   "execution_count": 19,
   "id": "4fece4ae-b25b-48ad-9a69-aaa34c633ca7",
   "metadata": {},
   "outputs": [],
   "source": [
    "l5 = [100,'Asif',17.765] #List of mixed data types"
   ]
  },
  {
   "cell_type": "code",
   "execution_count": 13,
   "id": "b57318e5-a659-465b-b5af-76ef6d8a3e0c",
   "metadata": {},
   "outputs": [],
   "source": [
    "l6 = ['Asif',25,[50,100],[150,90],{'John', 'David'}]"
   ]
  },
  {
   "cell_type": "code",
   "execution_count": 15,
   "id": "e112cb2f-0016-4e1f-99b6-04f1bf4914c2",
   "metadata": {},
   "outputs": [
    {
     "data": {
      "text/plain": [
       "5"
      ]
     },
     "execution_count": 15,
     "metadata": {},
     "output_type": "execute_result"
    }
   ],
   "source": [
    "len(l6) #length of list"
   ]
  },
  {
   "cell_type": "code",
   "execution_count": 17,
   "id": "e921ffa8-f0b8-43f4-8992-0d858ef096ac",
   "metadata": {},
   "outputs": [
    {
     "data": {
      "text/plain": [
       "10"
      ]
     },
     "execution_count": 17,
     "metadata": {},
     "output_type": "execute_result"
    }
   ],
   "source": [
    "l1[0] #show the 1st element of list"
   ]
  },
  {
   "cell_type": "code",
   "execution_count": 21,
   "id": "40f9fffb-3380-46a3-b57e-d783c23d1ca4",
   "metadata": {},
   "outputs": [
    {
     "data": {
      "text/plain": [
       "'one'"
      ]
     },
     "execution_count": 21,
     "metadata": {},
     "output_type": "execute_result"
    }
   ],
   "source": [
    "l3[0]"
   ]
  },
  {
   "cell_type": "code",
   "execution_count": 23,
   "id": "15ff191f-e0ca-4892-b515-1edd82baf273",
   "metadata": {},
   "outputs": [
    {
     "data": {
      "text/plain": [
       "'o'"
      ]
     },
     "execution_count": 23,
     "metadata": {},
     "output_type": "execute_result"
    }
   ],
   "source": [
    "l3[0][0] #nested indexing access the first character ofnthe first list element"
   ]
  },
  {
   "cell_type": "code",
   "execution_count": 25,
   "id": "8aab93f3-0438-4fcc-b3c1-a99499df9e72",
   "metadata": {},
   "outputs": [
    {
     "data": {
      "text/plain": [
       "'three'"
      ]
     },
     "execution_count": 25,
     "metadata": {},
     "output_type": "execute_result"
    }
   ],
   "source": [
    "l3[-1] #show last item of list"
   ]
  },
  {
   "cell_type": "code",
   "execution_count": 27,
   "id": "38f490f5-76a6-4943-ad4d-a2882db58c98",
   "metadata": {},
   "outputs": [
    {
     "data": {
      "text/plain": [
       "['Asif', 25, [50, 100], [150, 90], {'David', 'John'}]"
      ]
     },
     "execution_count": 27,
     "metadata": {},
     "output_type": "execute_result"
    }
   ],
   "source": [
    "l6"
   ]
  },
  {
   "cell_type": "code",
   "execution_count": 29,
   "id": "28d677d4-0e75-4a17-b3e5-5358b3822569",
   "metadata": {},
   "outputs": [
    {
     "data": {
      "text/plain": [
       "['Asif', 25, [50, 100]]"
      ]
     },
     "execution_count": 29,
     "metadata": {},
     "output_type": "execute_result"
    }
   ],
   "source": [
    "l6[0:3] #show all the items from 0 to 3 in list"
   ]
  },
  {
   "cell_type": "code",
   "execution_count": 31,
   "id": "fbb5fcd7-c9d0-4a4c-ad25-8754e9213d21",
   "metadata": {},
   "outputs": [
    {
     "data": {
      "text/plain": [
       "[[50, 100], [150, 90]]"
      ]
     },
     "execution_count": 31,
     "metadata": {},
     "output_type": "execute_result"
    }
   ],
   "source": [
    "l6[2:4]"
   ]
  },
  {
   "cell_type": "code",
   "execution_count": 33,
   "id": "e97f10a1-81c2-4bbf-bfd7-28db494c7305",
   "metadata": {},
   "outputs": [
    {
     "data": {
      "text/plain": [
       "['Asif', 25, [50, 100]]"
      ]
     },
     "execution_count": 33,
     "metadata": {},
     "output_type": "execute_result"
    }
   ],
   "source": [
    "l6[:3] #show first three items"
   ]
  },
  {
   "cell_type": "markdown",
   "id": "9e8f7d05-abaf-41e1-9717-eaaf6cba700e",
   "metadata": {},
   "source": [
    "ADD, REMOVE & CHANGE ITEMS"
   ]
  },
  {
   "cell_type": "code",
   "execution_count": 36,
   "id": "eb93dd98-aecc-44bf-8a8f-ee21bb1a68da",
   "metadata": {},
   "outputs": [
    {
     "data": {
      "text/plain": [
       "['Asif', 25, [50, 100], [150, 90], {'David', 'John'}]"
      ]
     },
     "execution_count": 36,
     "metadata": {},
     "output_type": "execute_result"
    }
   ],
   "source": [
    "l6"
   ]
  },
  {
   "cell_type": "code",
   "execution_count": 38,
   "id": "ea045ee0-8f1a-40de-a21d-08c2a9158836",
   "metadata": {},
   "outputs": [
    {
     "data": {
      "text/plain": [
       "['Asif', 25, [50, 100], [150, 90], {'David', 'John'}, 30]"
      ]
     },
     "execution_count": 38,
     "metadata": {},
     "output_type": "execute_result"
    }
   ],
   "source": [
    "l6.append(30) #add item to the end of the list\n",
    "l6"
   ]
  },
  {
   "cell_type": "code",
   "execution_count": 46,
   "id": "c63b3bd3-1634-4142-b7ab-3e04e9cd389a",
   "metadata": {},
   "outputs": [
    {
     "data": {
      "text/plain": [
       "['Asif', 25, [50, 100], [150, 90], 'nit', {'David', 'John'}, 30]"
      ]
     },
     "execution_count": 46,
     "metadata": {},
     "output_type": "execute_result"
    }
   ],
   "source": [
    "l6.insert(4,'nit') #add item at location of 4\n",
    "l6"
   ]
  },
  {
   "cell_type": "code",
   "execution_count": 48,
   "id": "7a8f8fa1-a165-4075-93e4-ba876d19a846",
   "metadata": {},
   "outputs": [
    {
     "data": {
      "text/plain": [
       "['Asif', 100, 25, [50, 100], [150, 90], 'nit', {'David', 'John'}, 30]"
      ]
     },
     "execution_count": 48,
     "metadata": {},
     "output_type": "execute_result"
    }
   ],
   "source": [
    "l6.insert(1, 100)\n",
    "l6"
   ]
  },
  {
   "cell_type": "code",
   "execution_count": 50,
   "id": "34b31a2e-ddd7-455a-904f-2c4741d2329b",
   "metadata": {},
   "outputs": [
    {
     "data": {
      "text/plain": [
       "['Asif', 25, [50, 100], [150, 90], 'nit', {'David', 'John'}, 30]"
      ]
     },
     "execution_count": 50,
     "metadata": {},
     "output_type": "execute_result"
    }
   ],
   "source": [
    "l6.remove(100) #remove item 100\n",
    "l6"
   ]
  },
  {
   "cell_type": "code",
   "execution_count": 52,
   "id": "cd64918d-d7e6-4839-a16b-bb4e7df2aa0a",
   "metadata": {},
   "outputs": [
    {
     "data": {
      "text/plain": [
       "['Asif', 25, [50, 100], [150, 90], 'nit', {'David', 'John'}]"
      ]
     },
     "execution_count": 52,
     "metadata": {},
     "output_type": "execute_result"
    }
   ],
   "source": [
    "l6.pop() #remove last item of list\n",
    "l6"
   ]
  },
  {
   "cell_type": "code",
   "execution_count": 54,
   "id": "51ef052f-cf63-4827-8787-263b3cc86625",
   "metadata": {},
   "outputs": [
    {
     "data": {
      "text/plain": [
       "['Asif', 25, [50, 100], [150, 90], {'David', 'John'}]"
      ]
     },
     "execution_count": 54,
     "metadata": {},
     "output_type": "execute_result"
    }
   ],
   "source": [
    "l6.pop(4) #remove item at location 4\n",
    "l6"
   ]
  },
  {
   "cell_type": "code",
   "execution_count": 56,
   "id": "d3e9ab25-9dad-4d71-9b1f-360527ce65b1",
   "metadata": {},
   "outputs": [
    {
     "data": {
      "text/plain": [
       "['Asif', 25, [50, 100], {'David', 'John'}]"
      ]
     },
     "execution_count": 56,
     "metadata": {},
     "output_type": "execute_result"
    }
   ],
   "source": [
    "del l6[3] #remove item at location 3\n",
    "l6"
   ]
  },
  {
   "cell_type": "code",
   "execution_count": 58,
   "id": "139c9aa2-d50d-4930-a675-fbd7b9834fee",
   "metadata": {},
   "outputs": [
    {
     "data": {
      "text/plain": [
       "[1, 2, 3, {'David', 'John'}]"
      ]
     },
     "execution_count": 58,
     "metadata": {},
     "output_type": "execute_result"
    }
   ],
   "source": [
    "#change the value of string\n",
    "l6[0] = 1\n",
    "l6[1] = 2\n",
    "l6[2] = 3\n",
    "l6"
   ]
  },
  {
   "cell_type": "code",
   "execution_count": 60,
   "id": "8b6086c2-c0aa-4bc5-ac0d-ab84f79224b3",
   "metadata": {},
   "outputs": [
    {
     "data": {
      "text/plain": [
       "[]"
      ]
     },
     "execution_count": 60,
     "metadata": {},
     "output_type": "execute_result"
    }
   ],
   "source": [
    "l6.clear() #empty list or delete all item\n",
    "l6"
   ]
  },
  {
   "cell_type": "markdown",
   "id": "2fbc5dba-9c54-402d-a660-c67d01b8292c",
   "metadata": {},
   "source": [
    "COPY LIST"
   ]
  },
  {
   "cell_type": "code",
   "execution_count": 67,
   "id": "ffa57465-026d-40fc-b01d-ffeb1efb5728",
   "metadata": {},
   "outputs": [],
   "source": [
    "l6 = ['Asif',25,[50,100],[150,90],{'John', 'David'}]"
   ]
  },
  {
   "cell_type": "code",
   "execution_count": 69,
   "id": "a5f17400-f528-4dba-8378-909e8977c637",
   "metadata": {},
   "outputs": [
    {
     "ename": "NameError",
     "evalue": "name 'l7' is not defined",
     "output_type": "error",
     "traceback": [
      "\u001b[1;31m---------------------------------------------------------------------------\u001b[0m",
      "\u001b[1;31mNameError\u001b[0m                                 Traceback (most recent call last)",
      "Cell \u001b[1;32mIn[69], line 1\u001b[0m\n\u001b[1;32m----> 1\u001b[0m l6\u001b[38;5;241m=\u001b[39ml7\n",
      "\u001b[1;31mNameError\u001b[0m: name 'l7' is not defined"
     ]
    }
   ],
   "source": [
    "l6 = l #create a new reference l7"
   ]
  },
  {
   "cell_type": "markdown",
   "id": "f9303cea-3edb-4684-8ce7-2ddb98db8e3d",
   "metadata": {},
   "source": [
    "TUPLE"
   ]
  },
  {
   "cell_type": "markdown",
   "id": "bef9e46e-e7af-4504-ab28-b167fcbdaa40",
   "metadata": {},
   "source": [
    "TUPLE CREATION"
   ]
  },
  {
   "cell_type": "code",
   "execution_count": 74,
   "id": "073e38bc-648d-4b3c-8378-6c387c6c11d1",
   "metadata": {},
   "outputs": [],
   "source": [
    "t=() #empty tuple"
   ]
  },
  {
   "cell_type": "code",
   "execution_count": 76,
   "id": "82b28fda-b405-429a-adca-d2f72e1ef042",
   "metadata": {},
   "outputs": [],
   "source": [
    "t1=(10,20,30,40) #tuple integers numbers"
   ]
  },
  {
   "cell_type": "code",
   "execution_count": 78,
   "id": "6ef4f0d7-3a5b-4173-bf8b-1c22ff3fc884",
   "metadata": {},
   "outputs": [],
   "source": [
    "t2=(10.20,20.30,30.40,40.50) #tuple of float number"
   ]
  },
  {
   "cell_type": "code",
   "execution_count": 80,
   "id": "3a78fe5a-cd96-4f49-9d61-4973e4397d3b",
   "metadata": {},
   "outputs": [],
   "source": [
    "t3=('one','two','three','four','five') #tuple of string"
   ]
  },
  {
   "cell_type": "code",
   "execution_count": 82,
   "id": "4e63600b-5c7d-40b1-a191-c7dd6b88c857",
   "metadata": {},
   "outputs": [],
   "source": [
    "t4=('nit',20,(10,20),(100,150)) #nested tuple"
   ]
  },
  {
   "cell_type": "code",
   "execution_count": 84,
   "id": "1c2fbe6c-d45a-4297-874a-9ccfacf1a520",
   "metadata": {},
   "outputs": [
    {
     "data": {
      "text/plain": [
       "4"
      ]
     },
     "execution_count": 84,
     "metadata": {},
     "output_type": "execute_result"
    }
   ],
   "source": [
    "len(t4)"
   ]
  },
  {
   "cell_type": "markdown",
   "id": "58d9bc99-73a1-4e8a-a988-c73e164dd1b3",
   "metadata": {},
   "source": [
    "TUPLE INDEXING"
   ]
  },
  {
   "cell_type": "code",
   "execution_count": 87,
   "id": "6748fc25-8350-4158-a9f2-755d8d09a9ea",
   "metadata": {},
   "outputs": [
    {
     "data": {
      "text/plain": [
       "(10.2, 20.3, 30.4, 40.5)"
      ]
     },
     "execution_count": 87,
     "metadata": {},
     "output_type": "execute_result"
    }
   ],
   "source": [
    "t2"
   ]
  },
  {
   "cell_type": "code",
   "execution_count": 89,
   "id": "af5076b6-aef2-4886-b065-0b578d2eab63",
   "metadata": {},
   "outputs": [
    {
     "data": {
      "text/plain": [
       "10.2"
      ]
     },
     "execution_count": 89,
     "metadata": {},
     "output_type": "execute_result"
    }
   ],
   "source": [
    " t2[0] #show 1st element of tuple"
   ]
  },
  {
   "cell_type": "code",
   "execution_count": 91,
   "id": "007a35c7-d29a-45b0-b4aa-04f0f04dbd62",
   "metadata": {},
   "outputs": [
    {
     "data": {
      "text/plain": [
       "'one'"
      ]
     },
     "execution_count": 91,
     "metadata": {},
     "output_type": "execute_result"
    }
   ],
   "source": [
    "t3[0]"
   ]
  },
  {
   "cell_type": "code",
   "execution_count": 93,
   "id": "a1e24117-4ef8-426f-aeb0-fe69b97069f5",
   "metadata": {},
   "outputs": [
    {
     "data": {
      "text/plain": [
       "'o'"
      ]
     },
     "execution_count": 93,
     "metadata": {},
     "output_type": "execute_result"
    }
   ],
   "source": [
    "t3[0][0] #show first chaacter of 1st element"
   ]
  },
  {
   "cell_type": "code",
   "execution_count": 95,
   "id": "edf2513c-f660-4164-88c7-ab2bd4555dfc",
   "metadata": {},
   "outputs": [
    {
     "data": {
      "text/plain": [
       "(100, 150)"
      ]
     },
     "execution_count": 95,
     "metadata": {},
     "output_type": "execute_result"
    }
   ],
   "source": [
    "t4[-1] #show last item in tuple"
   ]
  },
  {
   "cell_type": "markdown",
   "id": "f593f322-eb1d-427b-985f-6d78b562c110",
   "metadata": {},
   "source": [
    "TUPLE SLICING"
   ]
  },
  {
   "cell_type": "code",
   "execution_count": 98,
   "id": "ac718c6a-f362-424a-8a10-7345a130be90",
   "metadata": {},
   "outputs": [
    {
     "data": {
      "text/plain": [
       "(10, 20, 30, 40)"
      ]
     },
     "execution_count": 98,
     "metadata": {},
     "output_type": "execute_result"
    }
   ],
   "source": [
    "t1"
   ]
  },
  {
   "cell_type": "code",
   "execution_count": 100,
   "id": "f3956d08-6586-418b-8afd-51be218e1c16",
   "metadata": {},
   "outputs": [
    {
     "data": {
      "text/plain": [
       "(10, 20, 30)"
      ]
     },
     "execution_count": 100,
     "metadata": {},
     "output_type": "execute_result"
    }
   ],
   "source": [
    "t1[0:3] #return all item from 0to 3 in tuple"
   ]
  },
  {
   "cell_type": "code",
   "execution_count": 102,
   "id": "f38d81ac-8308-45ea-832c-f74991a2bdfa",
   "metadata": {},
   "outputs": [
    {
     "data": {
      "text/plain": [
       "(30, 40)"
      ]
     },
     "execution_count": 102,
     "metadata": {},
     "output_type": "execute_result"
    }
   ],
   "source": [
    "t1[2:4] #list of all item from 2 to 4"
   ]
  },
  {
   "cell_type": "code",
   "execution_count": 104,
   "id": "35d3c4b1-f831-4a38-8554-8bc567443612",
   "metadata": {},
   "outputs": [
    {
     "data": {
      "text/plain": [
       "(10, 20, 30)"
      ]
     },
     "execution_count": 104,
     "metadata": {},
     "output_type": "execute_result"
    }
   ],
   "source": [
    "t1[:3] #return 1st three item"
   ]
  },
  {
   "cell_type": "code",
   "execution_count": 106,
   "id": "568cbe00-147d-4a34-864a-96ddd2c5aa47",
   "metadata": {},
   "outputs": [
    {
     "data": {
      "text/plain": [
       "(30, 40)"
      ]
     },
     "execution_count": 106,
     "metadata": {},
     "output_type": "execute_result"
    }
   ],
   "source": [
    "t1[2:] #return last two item"
   ]
  },
  {
   "cell_type": "code",
   "execution_count": 108,
   "id": "0598800e-962d-4aa1-b208-0e2d51df1b86",
   "metadata": {},
   "outputs": [
    {
     "data": {
      "text/plain": [
       "(10, 20, 30, 40)"
      ]
     },
     "execution_count": 108,
     "metadata": {},
     "output_type": "execute_result"
    }
   ],
   "source": [
    "t1[:] #return whole tuple"
   ]
  },
  {
   "cell_type": "code",
   "execution_count": 110,
   "id": "a4cec8e1-e29f-4f10-9731-350aade89b62",
   "metadata": {},
   "outputs": [
    {
     "data": {
      "text/plain": [
       "40"
      ]
     },
     "execution_count": 110,
     "metadata": {},
     "output_type": "execute_result"
    }
   ],
   "source": [
    "t1[-1] #return last item of tuple"
   ]
  },
  {
   "cell_type": "markdown",
   "id": "07c4324a-1f17-4811-baad-61b00683bdc9",
   "metadata": {},
   "source": [
    "LOOP THROUGH A TUPLE"
   ]
  },
  {
   "cell_type": "code",
   "execution_count": 113,
   "id": "5ac2f177-1ea7-4ffa-9344-9eaa99d05848",
   "metadata": {},
   "outputs": [
    {
     "data": {
      "text/plain": [
       "(10, 20, 30, 40)"
      ]
     },
     "execution_count": 113,
     "metadata": {},
     "output_type": "execute_result"
    }
   ],
   "source": [
    "t1"
   ]
  },
  {
   "cell_type": "code",
   "execution_count": 115,
   "id": "a610390d-5ace-4758-a620-0e06276c3cf4",
   "metadata": {},
   "outputs": [
    {
     "name": "stdout",
     "output_type": "stream",
     "text": [
      "10\n",
      "20\n",
      "30\n",
      "40\n"
     ]
    }
   ],
   "source": [
    "for i in t1:\n",
    "    print(i)"
   ]
  },
  {
   "cell_type": "code",
   "execution_count": 119,
   "id": "e507f2b6-fb4b-4129-ac40-ccd26ee397ec",
   "metadata": {},
   "outputs": [
    {
     "name": "stdout",
     "output_type": "stream",
     "text": [
      "(0, 10)\n",
      "(1, 20)\n",
      "(2, 30)\n",
      "(3, 40)\n"
     ]
    }
   ],
   "source": [
    "for i in enumerate(t1):\n",
    "    print(i)"
   ]
  },
  {
   "cell_type": "markdown",
   "id": "56c3832d-c93e-498d-af38-382f861998b8",
   "metadata": {},
   "source": [
    "TUPLE MEMBERSHIP"
   ]
  },
  {
   "cell_type": "code",
   "execution_count": 122,
   "id": "f22b225d-7195-45f4-b404-2cb95500b232",
   "metadata": {},
   "outputs": [
    {
     "data": {
      "text/plain": [
       "(10, 20, 30, 40)"
      ]
     },
     "execution_count": 122,
     "metadata": {},
     "output_type": "execute_result"
    }
   ],
   "source": [
    "t1"
   ]
  },
  {
   "cell_type": "code",
   "execution_count": 124,
   "id": "a136c628-6ce9-437c-a8c2-edd66fa4d89f",
   "metadata": {},
   "outputs": [
    {
     "data": {
      "text/plain": [
       "True"
      ]
     },
     "execution_count": 124,
     "metadata": {},
     "output_type": "execute_result"
    }
   ],
   "source": [
    "10 in t1 # check if 10 exist in the list"
   ]
  },
  {
   "cell_type": "code",
   "execution_count": 126,
   "id": "b3d39378-f433-4338-8ad7-54915d6343fe",
   "metadata": {},
   "outputs": [
    {
     "data": {
      "text/plain": [
       "False"
      ]
     },
     "execution_count": 126,
     "metadata": {},
     "output_type": "execute_result"
    }
   ],
   "source": [
    "1 in t1"
   ]
  },
  {
   "cell_type": "markdown",
   "id": "d94a8e89-5ea0-4e7c-88ed-293c0eaa1359",
   "metadata": {},
   "source": [
    "INDEX POSITION"
   ]
  },
  {
   "cell_type": "code",
   "execution_count": 129,
   "id": "93d91da8-c8bc-4f2d-9cda-da3e7b545426",
   "metadata": {},
   "outputs": [
    {
     "data": {
      "text/plain": [
       "(10.2, 20.3, 30.4, 40.5)"
      ]
     },
     "execution_count": 129,
     "metadata": {},
     "output_type": "execute_result"
    }
   ],
   "source": [
    "t2"
   ]
  },
  {
   "cell_type": "code",
   "execution_count": 131,
   "id": "8bbe4db8-6c00-45ea-94c4-3072095440e3",
   "metadata": {},
   "outputs": [
    {
     "data": {
      "text/plain": [
       "0"
      ]
     },
     "execution_count": 131,
     "metadata": {},
     "output_type": "execute_result"
    }
   ],
   "source": [
    "t2.index(10.2)"
   ]
  },
  {
   "cell_type": "code",
   "execution_count": null,
   "id": "3e04094f-36a9-4e67-be05-8fd78cea4308",
   "metadata": {},
   "outputs": [],
   "source": []
  }
 ],
 "metadata": {
  "kernelspec": {
   "display_name": "Python 3 (ipykernel)",
   "language": "python",
   "name": "python3"
  },
  "language_info": {
   "codemirror_mode": {
    "name": "ipython",
    "version": 3
   },
   "file_extension": ".py",
   "mimetype": "text/x-python",
   "name": "python",
   "nbconvert_exporter": "python",
   "pygments_lexer": "ipython3",
   "version": "3.12.4"
  }
 },
 "nbformat": 4,
 "nbformat_minor": 5
}
