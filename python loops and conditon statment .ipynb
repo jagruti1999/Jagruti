{
 "cells": [
  {
   "cell_type": "code",
   "execution_count": 5,
   "id": "e8baedf6-5d54-4d21-891e-fdbc02357f03",
   "metadata": {},
   "outputs": [
    {
     "name": "stdout",
     "output_type": "stream",
     "text": [
      "Data Science\n"
     ]
    }
   ],
   "source": [
    "if True: #indentiation is always 4 spaces\n",
    "    print('Data Science')"
   ]
  },
  {
   "cell_type": "code",
   "execution_count": 7,
   "id": "cc399bc8-c28f-4ebb-8d78-286d1fbeabed",
   "metadata": {},
   "outputs": [
    {
     "name": "stdout",
     "output_type": "stream",
     "text": [
      "bye for now\n"
     ]
    }
   ],
   "source": [
    "if False:\n",
    "    prit('Data Science')\n",
    "print('bye for now')"
   ]
  },
  {
   "cell_type": "code",
   "execution_count": 9,
   "id": "f0a9a79d-754c-43a4-b750-4165e46c9e4c",
   "metadata": {},
   "outputs": [
    {
     "name": "stdout",
     "output_type": "stream",
     "text": [
      "Data Science\n",
      "bye for now\n"
     ]
    }
   ],
   "source": [
    "if True: #indentiation is always 4 spaces\n",
    "    print('Data Science')\n",
    "    print('bye for now')"
   ]
  },
  {
   "cell_type": "code",
   "execution_count": 11,
   "id": "9856ea75-ab21-4842-972e-7f7ac58b4449",
   "metadata": {},
   "outputs": [
    {
     "name": "stdout",
     "output_type": "stream",
     "text": [
      "Even Number\n"
     ]
    }
   ],
   "source": [
    "# to print only even number\n",
    "\n",
    "x=14\n",
    "r= x % 2\n",
    "if r==0:\n",
    "    print('Even Number')\n",
    "if r==1:\n",
    "    print('Odd Number')"
   ]
  },
  {
   "cell_type": "code",
   "execution_count": 13,
   "id": "5b034de2-b94b-44f4-b8d2-d4c26d8bf24e",
   "metadata": {},
   "outputs": [
    {
     "name": "stdout",
     "output_type": "stream",
     "text": [
      "Even Number\n"
     ]
    }
   ],
   "source": [
    "x=14\n",
    "r= x % 2\n",
    "if r==0:\n",
    "    print('Even Number')\n",
    "else:\n",
    "    print('Odd Number')"
   ]
  },
  {
   "cell_type": "code",
   "execution_count": 15,
   "id": "260930dc-c232-455b-9880-ee7af38315cc",
   "metadata": {},
   "outputs": [],
   "source": [
    "x=11\n",
    "r = x % 2\n",
    "if r==0:\n",
    "    print('Even Number')\n",
    "    \n"
   ]
  },
  {
   "cell_type": "code",
   "execution_count": 17,
   "id": "dec75185-7657-4894-a5cc-1a39c9738296",
   "metadata": {},
   "outputs": [
    {
     "name": "stdout",
     "output_type": "stream",
     "text": [
      "Odd Number\n"
     ]
    }
   ],
   "source": [
    "x=5\n",
    "r= x % 2\n",
    "if r==0:\n",
    "    print('Even Number')\n",
    "print('Odd Number')\n"
   ]
  },
  {
   "cell_type": "code",
   "execution_count": 19,
   "id": "99a3c4db-47b7-4f04-9709-a93fe96d3cca",
   "metadata": {},
   "outputs": [
    {
     "name": "stdout",
     "output_type": "stream",
     "text": [
      "Odd Number\n"
     ]
    }
   ],
   "source": [
    "x=15\n",
    "r= x % 2\n",
    "if r==0:\n",
    "    print('Even Number')\n",
    "print('Odd Number')"
   ]
  },
  {
   "cell_type": "code",
   "execution_count": 21,
   "id": "ab2c46cb-8b16-4733-b0fd-abf130208f48",
   "metadata": {},
   "outputs": [
    {
     "name": "stdout",
     "output_type": "stream",
     "text": [
      "Even Number\n"
     ]
    }
   ],
   "source": [
    "x=8\n",
    "r= x % 2\n",
    "if r==0:\n",
    "    print('Even Number')\n",
    "if r==1:\n",
    "    print('Odd Number')"
   ]
  },
  {
   "cell_type": "code",
   "execution_count": 23,
   "id": "ca397f64-5360-45d5-8ef2-fc22883abce5",
   "metadata": {},
   "outputs": [
    {
     "name": "stdout",
     "output_type": "stream",
     "text": [
      "Even Number\n",
      "Odd Number\n"
     ]
    }
   ],
   "source": [
    "x=8\n",
    "r= x % 2\n",
    "if r==0:\n",
    "    print('Even Number')\n",
    "print('Odd Number')"
   ]
  },
  {
   "cell_type": "code",
   "execution_count": 25,
   "id": "af808ed1-9ee0-4bb6-87e5-2395353c0cc5",
   "metadata": {},
   "outputs": [
    {
     "name": "stdout",
     "output_type": "stream",
     "text": [
      "Odd Number\n"
     ]
    }
   ],
   "source": [
    "x=7\n",
    "r= x % 2\n",
    "if r==0:\n",
    "    print('Even Number')\n",
    "if r==1:\n",
    "    print('Odd Number')"
   ]
  },
  {
   "cell_type": "code",
   "execution_count": 27,
   "id": "8ad96e3f-a7c2-461f-b259-bba8dd262c14",
   "metadata": {},
   "outputs": [
    {
     "name": "stdout",
     "output_type": "stream",
     "text": [
      "Odd Number\n"
     ]
    }
   ],
   "source": [
    "x=13\n",
    "r= x % 2\n",
    "if r==0:\n",
    "    print('Even Number')\n",
    "if r!=0:\n",
    "    print('Odd Number')"
   ]
  },
  {
   "cell_type": "code",
   "execution_count": 29,
   "id": "b66a3597-1cd1-4154-82ce-24fe633a9f56",
   "metadata": {},
   "outputs": [
    {
     "name": "stdout",
     "output_type": "stream",
     "text": [
      "Even Number\n"
     ]
    }
   ],
   "source": [
    "x=2\n",
    "r=x%2\n",
    "if r==0:\n",
    "    print('Even Number')\n",
    "else:\n",
    "    print('Odd Number')\n"
   ]
  },
  {
   "cell_type": "code",
   "execution_count": 31,
   "id": "ee508c97-8ab8-492c-a383-90b90f50129a",
   "metadata": {},
   "outputs": [
    {
     "name": "stdout",
     "output_type": "stream",
     "text": [
      "Odd Number\n"
     ]
    }
   ],
   "source": [
    "x=3\n",
    "r=x%2\n",
    "if r==0:\n",
    "    print('Even Number')\n",
    "    if x>5:\n",
    "        print('greater number')\n",
    "else:\n",
    "    print('Odd Number')\n"
   ]
  },
  {
   "cell_type": "code",
   "execution_count": 33,
   "id": "0b3be89e-7bda-43f5-9f16-4d3af83e9186",
   "metadata": {},
   "outputs": [
    {
     "name": "stdout",
     "output_type": "stream",
     "text": [
      "Even Number\n"
     ]
    }
   ],
   "source": [
    "x=4\n",
    "r=x%2\n",
    "if r==0:\n",
    "    print('Even Number')\n",
    "    if x>5:\n",
    "        print('greater number')\n",
    "else:\n",
    "    print('Odd Number')\n"
   ]
  },
  {
   "cell_type": "code",
   "execution_count": 35,
   "id": "4ec87dea-2a8c-457e-863a-467d5b67a028",
   "metadata": {},
   "outputs": [
    {
     "name": "stdout",
     "output_type": "stream",
     "text": [
      "Even Number\n",
      "not greater\n"
     ]
    }
   ],
   "source": [
    "x=2\n",
    "r= x % 2\n",
    "if r==0:\n",
    "    print('Even Number')\n",
    "    if x>5:\n",
    "        print('greater number')\n",
    "    else:\n",
    "        print('not greater')\n",
    "else:\n",
    "    print('odd number')"
   ]
  },
  {
   "cell_type": "markdown",
   "id": "23e9c1e8-6bb9-4dd5-8575-e342c32865df",
   "metadata": {},
   "source": [
    "we do have concept of(IF-ELIF-ELSE)e.g. i wantto print(1-->one,2-->two,3-->three,4-->four,5-->fivr)"
   ]
  },
  {
   "cell_type": "code",
   "execution_count": 38,
   "id": "f2368bc0-c6d0-41b4-8e02-146b3ed855c3",
   "metadata": {},
   "outputs": [
    {
     "name": "stdout",
     "output_type": "stream",
     "text": [
      "one\n"
     ]
    }
   ],
   "source": [
    "x=1\n",
    "if(x==1):\n",
    "    print('one')\n",
    "if (x==2):\n",
    "    print('two')\n",
    "if(x==3):\n",
    "    print('three')\n",
    "if(x==4):\n",
    "    print('four')"
   ]
  },
  {
   "cell_type": "code",
   "execution_count": 40,
   "id": "5727d488-2966-4c6d-a3be-69da43c19771",
   "metadata": {},
   "outputs": [
    {
     "name": "stdout",
     "output_type": "stream",
     "text": [
      "three\n"
     ]
    }
   ],
   "source": [
    "x=3\n",
    "if(x==1):\n",
    "    print('one')\n",
    "elif (x==2):\n",
    "    print('two')\n",
    "elif(x==3):\n",
    "    print('three')\n",
    "elif(x==4):\n",
    "    print('four')"
   ]
  },
  {
   "cell_type": "code",
   "execution_count": 42,
   "id": "e805b974-b9e2-43ff-980b-9f9b92a1fa6e",
   "metadata": {},
   "outputs": [],
   "source": [
    "x=5\n",
    "if(x==1):\n",
    "    print('one')\n",
    "elif (x==2):\n",
    "    print('two')\n",
    "elif(x==3):\n",
    "    print('three')\n",
    "elif(x==4):\n",
    "    print('four')"
   ]
  },
  {
   "cell_type": "code",
   "execution_count": 44,
   "id": "0731f45c-ab70-4715-a56a-385abee145de",
   "metadata": {},
   "outputs": [
    {
     "name": "stdout",
     "output_type": "stream",
     "text": [
      "wrong output\n"
     ]
    }
   ],
   "source": [
    "x=5\n",
    "if(x==1):\n",
    "    print('one')\n",
    "elif (x==2):\n",
    "    print('two')\n",
    "elif(x==3):\n",
    "    print('three')\n",
    "elif(x==4):\n",
    "    print('four')\n",
    "else:\n",
    "    print('wrong output')"
   ]
  },
  {
   "cell_type": "code",
   "execution_count": 46,
   "id": "58dab0af-7138-4e42-bdaf-1ce7a61b3da0",
   "metadata": {},
   "outputs": [
    {
     "name": "stdout",
     "output_type": "stream",
     "text": [
      "wrong output\n"
     ]
    }
   ],
   "source": [
    "x=15\n",
    "if(x==1):\n",
    "    print('one')\n",
    "elif (x==2):\n",
    "    print('two')\n",
    "elif(x==3):\n",
    "    print('three')\n",
    "elif(x==4):\n",
    "    print('four')\n",
    "else:\n",
    "    print('wrong output')"
   ]
  },
  {
   "cell_type": "code",
   "execution_count": 48,
   "id": "edb48f6f-d08f-4154-aac6-91cd3098f830",
   "metadata": {},
   "outputs": [
    {
     "name": "stdout",
     "output_type": "stream",
     "text": [
      "Data Science\n"
     ]
    }
   ],
   "source": [
    "print('Data Science')"
   ]
  },
  {
   "cell_type": "code",
   "execution_count": 50,
   "id": "65f235e0-d302-4f08-8a9a-549f63f24f51",
   "metadata": {},
   "outputs": [
    {
     "name": "stdout",
     "output_type": "stream",
     "text": [
      "Data Science\n",
      "Data Science\n"
     ]
    }
   ],
   "source": [
    "print('Data Science')\n",
    "print('Data Science')"
   ]
  },
  {
   "cell_type": "markdown",
   "id": "25d438d3-a59c-479a-b429-c6dc49bc1198",
   "metadata": {},
   "source": [
    "LOOPS in programing world some time we keep on repeating ,may be you want to repeat 5 statement so one way is copy and paste multiple times or other way is. If you want to print the datascience 10 times then what you will you can't copy for 10 times, if you want to print 1000 times then you can do manualy, that is the reason why we need to apply loop loop & For loop 2 type of loops While loop and for loop"
   ]
  },
  {
   "cell_type": "code",
   "execution_count": 53,
   "id": "97be2f57-49d6-4f98-8d1f-52122b22cbad",
   "metadata": {},
   "outputs": [
    {
     "name": "stdout",
     "output_type": "stream",
     "text": [
      "data science\n",
      "data science\n",
      "data science\n",
      "data science\n",
      "data science\n"
     ]
    }
   ],
   "source": [
    "i=1 #initializng\n",
    "while i<=5: #condition\n",
    "    print('data science')\n",
    "    i=i+1 #increment"
   ]
  },
  {
   "cell_type": "code",
   "execution_count": 55,
   "id": "0bef8c67-4b1b-4934-be31-003f2f80ed7a",
   "metadata": {},
   "outputs": [
    {
     "name": "stdout",
     "output_type": "stream",
     "text": [
      "data scinece\n",
      "data scinece\n",
      "data scinece\n",
      "data scinece\n",
      "data scinece\n"
     ]
    }
   ],
   "source": [
    "i=5 #initializng\n",
    "while i>=1: #condition\n",
    "    print('data scinece')\n",
    "    i=i-1 #decremnt"
   ]
  },
  {
   "cell_type": "code",
   "execution_count": 57,
   "id": "dcef5bd1-d916-4579-b325-b4a3f93c6e08",
   "metadata": {},
   "outputs": [
    {
     "name": "stdout",
     "output_type": "stream",
     "text": [
      "data scinece : 1\n",
      "data scinece : 2\n",
      "data scinece : 3\n",
      "data scinece : 4\n",
      "data scinece : 5\n"
     ]
    }
   ],
   "source": [
    "i=1 #initializng\n",
    "while i<=5: #condition\n",
    "    print('data scinece',':',i)\n",
    "    i=i+1 #incremnt"
   ]
  },
  {
   "cell_type": "code",
   "execution_count": 59,
   "id": "162ca41b-2369-4009-82d0-478554735eea",
   "metadata": {},
   "outputs": [
    {
     "name": "stdout",
     "output_type": "stream",
     "text": [
      "data scinece : 5\n",
      "data scinece : 4\n",
      "data scinece : 3\n",
      "data scinece : 2\n",
      "data scinece : 1\n"
     ]
    }
   ],
   "source": [
    "i=5 #initializng\n",
    "while i>=1: #condition\n",
    "    print('data scinece',':',i)\n",
    "    i=i-1 #decremnt"
   ]
  },
  {
   "cell_type": "code",
   "execution_count": 61,
   "id": "a4fe7b2e-b1d1-4701-b04a-fb6a6a4710ca",
   "metadata": {},
   "outputs": [
    {
     "name": "stdout",
     "output_type": "stream",
     "text": [
      "data science\n",
      "technology\n",
      "technology\n",
      "technology\n",
      "technology\n",
      "\n",
      "data science\n",
      "technology\n",
      "technology\n",
      "technology\n",
      "technology\n",
      "\n",
      "data science\n",
      "technology\n",
      "technology\n",
      "technology\n",
      "technology\n",
      "\n",
      "data science\n",
      "technology\n",
      "technology\n",
      "technology\n",
      "technology\n",
      "\n",
      "data science\n",
      "technology\n",
      "technology\n",
      "technology\n",
      "technology\n",
      "\n"
     ]
    }
   ],
   "source": [
    "i=1\n",
    "while i<=5:\n",
    "    print('data science')\n",
    "    j=1\n",
    "    while j<=4:\n",
    "        print(  'technology')\n",
    "        j=j+1\n",
    "   \n",
    "    i=i+1\n",
    "    print()\n",
    "\n",
    "   "
   ]
  },
  {
   "cell_type": "code",
   "execution_count": 63,
   "id": "936dd13f-4bb9-4c9e-ac08-44176773e4a5",
   "metadata": {},
   "outputs": [
    {
     "name": "stdout",
     "output_type": "stream",
     "text": [
      "1 : data science\n",
      "    technology\n",
      "    technology\n",
      "    technology\n",
      "    technology\n",
      "\n",
      "2 : data science\n",
      "    technology\n",
      "    technology\n",
      "    technology\n",
      "    technology\n",
      "\n",
      "3 : data science\n",
      "    technology\n",
      "    technology\n",
      "    technology\n",
      "    technology\n",
      "\n",
      "4 : data science\n",
      "    technology\n",
      "    technology\n",
      "    technology\n",
      "    technology\n",
      "\n",
      "5 : data science\n",
      "    technology\n",
      "    technology\n",
      "    technology\n",
      "    technology\n",
      "\n",
      "6 : data science\n",
      "    technology\n",
      "    technology\n",
      "    technology\n",
      "    technology\n",
      "\n",
      "7 : data science\n",
      "    technology\n",
      "    technology\n",
      "    technology\n",
      "    technology\n",
      "\n",
      "8 : data science\n",
      "    technology\n",
      "    technology\n",
      "    technology\n",
      "    technology\n",
      "\n",
      "9 : data science\n",
      "    technology\n",
      "    technology\n",
      "    technology\n",
      "    technology\n",
      "\n",
      "10 : data science\n",
      "    technology\n",
      "    technology\n",
      "    technology\n",
      "    technology\n",
      "\n"
     ]
    }
   ],
   "source": [
    "i=1\n",
    "while i<=10:\n",
    "    print(i,':','data science')\n",
    "    j=1\n",
    "    while j<=4:\n",
    "        print('    technology')\n",
    "        j=j+1\n",
    "   \n",
    "    i=i+1\n",
    "    print()"
   ]
  },
  {
   "cell_type": "code",
   "execution_count": 65,
   "id": "8cde4e2d-9465-4030-a63e-90d0e205647f",
   "metadata": {},
   "outputs": [
    {
     "name": "stdout",
     "output_type": "stream",
     "text": [
      "data sciencetechnologytechnologytechnologytechnology\n",
      "data sciencetechnologytechnologytechnologytechnology\n",
      "data sciencetechnologytechnologytechnologytechnology\n",
      "data sciencetechnologytechnologytechnologytechnology\n",
      "data sciencetechnologytechnologytechnologytechnology\n"
     ]
    }
   ],
   "source": [
    "i=1\n",
    "while i<=5:\n",
    "    print('data science', end=\"\")\n",
    "    j=1\n",
    "    while j<=4:\n",
    "        print('technology',end=\"\")\n",
    "        j=j+1\n",
    "        \n",
    "    i=i+1\n",
    "    print()"
   ]
  },
  {
   "cell_type": "code",
   "execution_count": 67,
   "id": "62c579ab-3319-45e0-ae34-9fcf0a210c88",
   "metadata": {},
   "outputs": [
    {
     "name": "stdout",
     "output_type": "stream",
     "text": [
      " data science technology technology technology technology\n",
      " data science technology technology technology technology\n",
      " data science technology technology technology technology\n",
      " data science technology technology technology technology\n",
      " data science technology technology technology technology\n"
     ]
    }
   ],
   "source": [
    "i = 1\n",
    "while i<=5:\n",
    "    print(' data science', end=\"\")\n",
    "    j = 1\n",
    "    while j<=4:\n",
    "        print(' technology',end=\"\")\n",
    "        j = j + 1\n",
    "        \n",
    "    i = i + 1\n",
    "    print()"
   ]
  },
  {
   "cell_type": "code",
   "execution_count": 69,
   "id": "e53d527f-00fb-4420-a3d0-abac24ea5a9d",
   "metadata": {},
   "outputs": [
    {
     "name": "stdout",
     "output_type": "stream",
     "text": [
      " data science * technology * technology * technology * technology *\n",
      " data science * technology * technology * technology * technology *\n",
      " data science * technology * technology * technology * technology *\n",
      " data science * technology * technology * technology * technology *\n",
      " data science * technology * technology * technology * technology *\n"
     ]
    }
   ],
   "source": [
    "i = 1\n",
    "while i<=5:\n",
    "    print(' data science', end = \" *\")# when we mention end then new line will n\n",
    "    j = 1\n",
    "    while j<=4:\n",
    "        print(' technology', end=\" *\")\n",
    "        j = j + 1\n",
    "    i = i + 1\n",
    "    print()"
   ]
  },
  {
   "cell_type": "code",
   "execution_count": 71,
   "id": "7053140e-75cd-48d4-af9a-0a6d64b517d6",
   "metadata": {},
   "outputs": [
    {
     "name": "stdout",
     "output_type": "stream",
     "text": [
      "0 1 2 3 \n",
      "0 2 4 6 \n",
      "0 3 6 9 \n",
      "0 4 8 12 \n"
     ]
    }
   ],
   "source": [
    "i = 1\n",
    "while i <= 4 :\n",
    "    j = 0\n",
    "    while j <= 3 :\n",
    "        print(i*j, end=\" \")\n",
    "        j += 1\n",
    "    print()\n",
    "    i += 1"
   ]
  },
  {
   "cell_type": "code",
   "execution_count": 73,
   "id": "ff2df9d5-cb94-49b5-9097-da07f492b8d2",
   "metadata": {},
   "outputs": [
    {
     "name": "stdout",
     "output_type": "stream",
     "text": [
      "n\n",
      "i\n",
      "t\n"
     ]
    }
   ],
   "source": [
    "name='nit'\n",
    "for i in name:\n",
    "    print(i)"
   ]
  },
  {
   "cell_type": "code",
   "execution_count": 75,
   "id": "ea344f61-6a66-4fcf-acfa-e2ff3dfa3406",
   "metadata": {},
   "outputs": [
    {
     "name": "stdout",
     "output_type": "stream",
     "text": [
      "1\n",
      "3.5\n",
      "hallo\n"
     ]
    }
   ],
   "source": [
    "name1=[1,3.5,'hallo']\n",
    "for i in name1:\n",
    "    print(i)"
   ]
  },
  {
   "cell_type": "code",
   "execution_count": 77,
   "id": "32c4f01b-271c-4c53-8977-3b207e45dec1",
   "metadata": {},
   "outputs": [
    {
     "name": "stdout",
     "output_type": "stream",
     "text": [
      "2\n",
      "3\n",
      "7.8\n",
      "hi\n"
     ]
    }
   ],
   "source": [
    "for i in [2,3,7.8,'hi']:\n",
    "    print(i)"
   ]
  },
  {
   "cell_type": "code",
   "execution_count": 79,
   "id": "e8b035e0-98c2-452e-99b8-9217e3e0d085",
   "metadata": {},
   "outputs": [
    {
     "name": "stdout",
     "output_type": "stream",
     "text": [
      "1\n",
      "2\n",
      "3\n",
      "4\n"
     ]
    }
   ],
   "source": [
    "for i in range(1,5):\n",
    "    print(i)"
   ]
  },
  {
   "cell_type": "code",
   "execution_count": 81,
   "id": "d242ab32-7cd6-491e-bf0b-68c943cf26c6",
   "metadata": {},
   "outputs": [
    {
     "name": "stdout",
     "output_type": "stream",
     "text": [
      "1\n",
      "4\n",
      "7\n"
     ]
    }
   ],
   "source": [
    "for i in range(1,10,3):\n",
    "    print(i)"
   ]
  },
  {
   "cell_type": "code",
   "execution_count": 83,
   "id": "15815bf0-9218-42cc-9057-55122c491a47",
   "metadata": {},
   "outputs": [
    {
     "name": "stdout",
     "output_type": "stream",
     "text": [
      "1\n",
      "2\n",
      "3\n",
      "4\n",
      "6\n",
      "7\n",
      "8\n",
      "9\n"
     ]
    }
   ],
   "source": [
    "#print the number which is not divisible by 5\n",
    "for i in range(1,11):\n",
    "    if i%5 != 0 :\n",
    "        print(i)"
   ]
  },
  {
   "cell_type": "code",
   "execution_count": 85,
   "id": "437cd718-58ca-4a73-8689-830827b6dcda",
   "metadata": {},
   "outputs": [
    {
     "name": "stdout",
     "output_type": "stream",
     "text": [
      "5\n",
      "10\n",
      "15\n",
      "20\n",
      "25\n",
      "30\n",
      "35\n",
      "40\n",
      "45\n",
      "50\n"
     ]
    }
   ],
   "source": [
    "#can you write the pythoncode for 5 multiplication table\n",
    "for i in range(1,51):\n",
    "\n",
    "    if i%5 == 0:\n",
    "        print(i)"
   ]
  },
  {
   "cell_type": "markdown",
   "id": "d5aa3ad3-9983-433b-bb11-96dbbc95056f",
   "metadata": {},
   "source": [
    "--> LETS DISCUSS ABOUT 3 KEYWORDS -- BREAK || CONTINUE || PASS\r\n",
    "--> BREAK STATEMNT - if you apply break statment in a loop then it will end the lopo\r\n",
    "--> Pass = skips block of code( function, class etc)\r\n",
    "--> Continue= skips 1 step/iteration during loop\r\n",
    "--> Break= jumps out of the function/loop"
   ]
  },
  {
   "cell_type": "markdown",
   "id": "622db405-5e14-4f37-a3ea-be2a4501888a",
   "metadata": {},
   "source": [
    "BREAK"
   ]
  },
  {
   "cell_type": "code",
   "execution_count": 89,
   "id": "d7fe61fd-309e-41f4-900b-f802fdff795b",
   "metadata": {},
   "outputs": [
    {
     "name": "stdout",
     "output_type": "stream",
     "text": [
      "1\n",
      "2\n",
      "3\n",
      "4\n",
      "5\n",
      "6\n",
      "7\n",
      "8\n",
      "9\n",
      "10\n"
     ]
    }
   ],
   "source": [
    "for i in range (1,11):\n",
    "    print(i)\n"
   ]
  },
  {
   "cell_type": "code",
   "execution_count": 91,
   "id": "1d8eb363-b3ea-4742-a40a-8a42f3fc9cd9",
   "metadata": {},
   "outputs": [],
   "source": [
    "for i in range(1,11):\n",
    "    if i == 5:\n",
    "        break ##==> WHILE YOU WORK WITH COMPUTER VISION PROJECT"
   ]
  },
  {
   "cell_type": "code",
   "execution_count": 93,
   "id": "53fa3609-4d45-46de-8351-647e0c2f9165",
   "metadata": {},
   "outputs": [
    {
     "name": "stdout",
     "output_type": "stream",
     "text": [
      "1\n",
      "2\n",
      "3\n",
      "4\n"
     ]
    }
   ],
   "source": [
    "for i in range(1,11):\n",
    "    if i == 5:\n",
    "        break # WHILE YOU WORK WITH COMPUTER VISION PROJECT\n",
    "    print(i)"
   ]
  },
  {
   "cell_type": "code",
   "execution_count": 95,
   "id": "77ac036b-b10a-42b8-ab0c-b8843e6d16c6",
   "metadata": {},
   "outputs": [
    {
     "name": "stdout",
     "output_type": "stream",
     "text": [
      "5\n"
     ]
    }
   ],
   "source": [
    "for i in range(1,11):\n",
    "    if i == 5:\n",
    "        break # WHILE YOU WORK WITH COMPUTER VISION PROJECT\n",
    "print(i)"
   ]
  },
  {
   "cell_type": "markdown",
   "id": "1d11d670-1bc1-430e-833f-9beb04595e44",
   "metadata": {},
   "source": [
    "Continue - loop wont be terminate"
   ]
  },
  {
   "cell_type": "code",
   "execution_count": 98,
   "id": "f4d0cf2f-69fb-440f-bb09-cad40ecf9ca1",
   "metadata": {},
   "outputs": [
    {
     "name": "stdout",
     "output_type": "stream",
     "text": [
      "1\n",
      "2\n",
      "3\n",
      "4\n",
      "6\n",
      "7\n",
      "8\n",
      "9\n",
      "10\n"
     ]
    }
   ],
   "source": [
    "for i in range(1,11):\n",
    "    if i == 5:\n",
    "        continue\n",
    "    print(i)"
   ]
  },
  {
   "cell_type": "code",
   "execution_count": 100,
   "id": "06f5b697-7795-457f-aded-7f6e751831f3",
   "metadata": {},
   "outputs": [
    {
     "name": "stdout",
     "output_type": "stream",
     "text": [
      "hello 1\n",
      "hello 2\n",
      "hello 3\n",
      "hello 4\n",
      "hello 6\n",
      "hello 7\n",
      "hello 8\n",
      "hello 9\n",
      "hello 10\n"
     ]
    }
   ],
   "source": [
    "for i in range(1,11):\n",
    "    if i == 5:\n",
    "        continue\n",
    "    print('hello',i)"
   ]
  },
  {
   "cell_type": "markdown",
   "id": "38000b73-01c2-4241-87a8-b96fd70f0ae0",
   "metadata": {},
   "source": [
    "PASS Statement - pass the code & it wont go"
   ]
  },
  {
   "cell_type": "code",
   "execution_count": 103,
   "id": "9072fa87-9df7-4653-8c0d-d00f9e747662",
   "metadata": {},
   "outputs": [],
   "source": [
    "for i in range(1,11):\n",
    "    pass"
   ]
  },
  {
   "cell_type": "code",
   "execution_count": 105,
   "id": "094dfc8c-aac1-4e99-8b42-316c407f2596",
   "metadata": {},
   "outputs": [
    {
     "name": "stdout",
     "output_type": "stream",
     "text": [
      "# # # #\n",
      "# # # #\n",
      "# # # #\n",
      "# # # #\n"
     ]
    }
   ],
   "source": [
    "print('# # # #')\n",
    "print('# # # #')\n",
    "print('# # # #')\n",
    "print('# # # #')"
   ]
  },
  {
   "cell_type": "code",
   "execution_count": 107,
   "id": "be72066a-6bd8-4de7-93a5-7802e29ed3ce",
   "metadata": {},
   "outputs": [
    {
     "name": "stdout",
     "output_type": "stream",
     "text": [
      "#  #  #  #  "
     ]
    }
   ],
   "source": [
    "for j in range(4):\n",
    "    print('#', end=\"  \")"
   ]
  },
  {
   "cell_type": "code",
   "execution_count": 108,
   "id": "245a14fb-0e4c-4f88-bf66-6f86606ff86c",
   "metadata": {},
   "outputs": [
    {
     "name": "stdout",
     "output_type": "stream",
     "text": [
      "#  #  #  #  #  #  #  #  "
     ]
    }
   ],
   "source": [
    "for j in range(4):\n",
    "    print('#', end=\"  \")\n",
    "\n",
    "for j in range(4):\n",
    "    print('#', end=\"  \")"
   ]
  },
  {
   "cell_type": "code",
   "execution_count": 111,
   "id": "2c4d8811-a2dd-46f3-942f-c785dac6e783",
   "metadata": {},
   "outputs": [
    {
     "name": "stdout",
     "output_type": "stream",
     "text": [
      "#  #  #  #  \n",
      "#  #  #  #  "
     ]
    }
   ],
   "source": [
    "for j in range(4):\n",
    "    print('#', end=\"  \")\n",
    "    \n",
    "print()\n",
    "\n",
    "for j in range(4):\n",
    "    print('#', end=\"  \")"
   ]
  },
  {
   "cell_type": "code",
   "execution_count": 113,
   "id": "b9a67f0f-6afe-4a4d-8469-e34451fd2749",
   "metadata": {},
   "outputs": [
    {
     "name": "stdout",
     "output_type": "stream",
     "text": [
      "#  #  #  #  \n",
      "#  #  #  #  \n",
      "#  #  #  #  \n",
      "#  #  #  #  "
     ]
    }
   ],
   "source": [
    "for j in range(4):\n",
    "    print('#', end=\"  \")\n",
    "    \n",
    "print()\n",
    "\n",
    "for j in range(4):\n",
    "    print('#', end=\"  \")\n",
    "\n",
    "print()\n",
    "\n",
    "for j in range(4):\n",
    "    print('#', end=\"  \")\n",
    "    \n",
    "print()\n",
    "\n",
    "for j in range(4):\n",
    "    print('#', end=\"  \")"
   ]
  },
  {
   "cell_type": "code",
   "execution_count": 115,
   "id": "84e9e70c-40da-4c23-b92f-98a35218fe02",
   "metadata": {},
   "outputs": [
    {
     "name": "stdout",
     "output_type": "stream",
     "text": [
      "#  #  #  #  \n",
      "#  #  #  #  \n",
      "#  #  #  #  \n",
      "#  #  #  #  \n"
     ]
    }
   ],
   "source": [
    "for i in range(4):\n",
    "    for j in range(4):\n",
    "        print('#', end=\"  \")\n",
    "    print()\n",
    "    # pease use debug mode"
   ]
  },
  {
   "cell_type": "code",
   "execution_count": 117,
   "id": "759e2249-4e11-4f8c-a836-d97ccb048ada",
   "metadata": {},
   "outputs": [
    {
     "name": "stdout",
     "output_type": "stream",
     "text": [
      "\n",
      "#  \n",
      "#  #  \n",
      "#  #  #  \n",
      "#  #  #  #  \n"
     ]
    }
   ],
   "source": [
    "for i in range(5):\n",
    "    for j in range(i):\n",
    "        print('#',end=\"  \")\n",
    "    print()"
   ]
  },
  {
   "cell_type": "code",
   "execution_count": 119,
   "id": "8020f3d9-38f8-41d4-b691-d3d88b9cecd0",
   "metadata": {},
   "outputs": [
    {
     "name": "stdout",
     "output_type": "stream",
     "text": [
      "#  #  #  #  \n",
      "#  #  #  \n",
      "#  #  \n",
      "#  \n",
      "\n"
     ]
    }
   ],
   "source": [
    "for i in range(5):\n",
    "    for j in range(4-i):\n",
    "        print('#', end=\"  \")\n",
    "    print()\n",
    "        "
   ]
  },
  {
   "cell_type": "code",
   "execution_count": 121,
   "id": "ebb6fd75-c3ab-4fd9-92e1-fa4772ce5b99",
   "metadata": {},
   "outputs": [
    {
     "name": "stdout",
     "output_type": "stream",
     "text": [
      "*  *  *  *  \n",
      "*  *  *  \n",
      "*  *  \n",
      "*  \n",
      "\n"
     ]
    }
   ],
   "source": [
    "for i in range(5):\n",
    "    for j in range(4-i):\n",
    "        print('*', end=\"  \")\n",
    "    print()\n",
    "        "
   ]
  },
  {
   "cell_type": "code",
   "execution_count": 123,
   "id": "9d05a9b4-dc19-4fd0-92df-98fd186e5e23",
   "metadata": {},
   "outputs": [
    {
     "name": "stdout",
     "output_type": "stream",
     "text": [
      "\n",
      "*  \n",
      "*  *  \n",
      "*  *  *  \n",
      "*  *  *  *  \n"
     ]
    }
   ],
   "source": [
    "for i in range(5):\n",
    "    for j in range(i):\n",
    "        print('*', end=\"  \")\n",
    "    print()\n",
    "        "
   ]
  },
  {
   "cell_type": "markdown",
   "id": "a8ff833a-c91c-4115-913e-31f4e5f19cf7",
   "metadata": {},
   "source": [
    "For|Else in python"
   ]
  },
  {
   "cell_type": "code",
   "execution_count": 126,
   "id": "45f3eaa3-40d7-4a7d-9e9b-6f11aa1ad467",
   "metadata": {},
   "outputs": [
    {
     "name": "stdout",
     "output_type": "stream",
     "text": [
      "15\n"
     ]
    }
   ],
   "source": [
    "nums = [12,15,18,21,26]\n",
    "for num in nums:\n",
    "    if num % 5 == 0:\n",
    "        print(num)"
   ]
  },
  {
   "cell_type": "code",
   "execution_count": 131,
   "id": "539994dd-fabe-4be3-b267-7dc143ae722c",
   "metadata": {},
   "outputs": [
    {
     "name": "stdout",
     "output_type": "stream",
     "text": [
      "25\n"
     ]
    }
   ],
   "source": [
    "nums = [12,14,18,21,25]\n",
    "for num in nums:\n",
    "    if num % 5 == 0:\n",
    "        print(num)"
   ]
  },
  {
   "cell_type": "code",
   "execution_count": 135,
   "id": "2151eae9-bdc7-4aea-bb48-3666225781c5",
   "metadata": {},
   "outputs": [
    {
     "name": "stdout",
     "output_type": "stream",
     "text": [
      "25\n",
      "20\n"
     ]
    }
   ],
   "source": [
    "nums = [12,14,18,21,25,20]\n",
    "for num in nums:\n",
    "    if num % 5 == 0:\n",
    "        print(num)"
   ]
  },
  {
   "cell_type": "code",
   "execution_count": 137,
   "id": "daaa01be-5e56-4bec-b08c-033996194b80",
   "metadata": {},
   "outputs": [
    {
     "name": "stdout",
     "output_type": "stream",
     "text": [
      "25\n"
     ]
    }
   ],
   "source": [
    "nums = [12,14,18,21,25,20]\n",
    "for num in nums:\n",
    "    if num % 5 == 0:\n",
    "        print(num)\n",
    "        break"
   ]
  },
  {
   "cell_type": "code",
   "execution_count": 139,
   "id": "2adc79cf-29c6-4901-ac76-f758b34697ef",
   "metadata": {},
   "outputs": [
    {
     "name": "stdout",
     "output_type": "stream",
     "text": [
      "10\n"
     ]
    }
   ],
   "source": [
    "nums = [10,14,18,21,20,25]\n",
    "for num in nums:\n",
    "    if num % 5 == 0:\n",
    "        print(num)\n",
    "        break #it will print only 1 number then it break"
   ]
  },
  {
   "cell_type": "code",
   "execution_count": 141,
   "id": "9a4fa9b2-98ce-419d-a09b-dc0847028035",
   "metadata": {},
   "outputs": [],
   "source": [
    "nums = [7,14,18,21,23,27] #hear there is no number which is divisible by 5 we got\n",
    "for num in nums:\n",
    "    if num % 5 == 0:\n",
    "        print(num)\n",
    "        # break"
   ]
  },
  {
   "cell_type": "code",
   "execution_count": 143,
   "id": "fd54e7ba-a0c5-4594-8b62-b3b4a9ec6ccd",
   "metadata": {},
   "outputs": [
    {
     "name": "stdout",
     "output_type": "stream",
     "text": [
      "Number Not Found\n",
      "Number Not Found\n",
      "Number Not Found\n",
      "Number Not Found\n",
      "Number Not Found\n",
      "Number Not Found\n",
      "Number Not Found\n"
     ]
    }
   ],
   "source": [
    "nums = [7,14,18,21,23,27,22] #hear there is no number which is divisible by 5 we g\n",
    "for num in nums:\n",
    "    if num % 5 == 0:\n",
    "        print(num)\n",
    "        break\n",
    "    else:\n",
    "        print('Number Not Found') #every iteration it cheking condition"
   ]
  },
  {
   "cell_type": "code",
   "execution_count": 145,
   "id": "cb340ec1-94a1-46b3-8942-105ee55de30c",
   "metadata": {},
   "outputs": [
    {
     "name": "stdout",
     "output_type": "stream",
     "text": [
      "10\n",
      "Not Found\n",
      "Not Found\n",
      "Not Found\n",
      "20\n",
      "Not Found\n"
     ]
    }
   ],
   "source": [
    "nums = [10,14,18,21,20,27] #hear there is no number which is divisible by 5 we got\n",
    "for num in nums:\n",
    "    if num % 5 == 0:\n",
    "        print(num)\n",
    "        #break\n",
    "    else:\n",
    "        print('Not Found')"
   ]
  },
  {
   "cell_type": "code",
   "execution_count": 147,
   "id": "507a7c45-45b7-4b16-b4bf-ea0d7ab39f23",
   "metadata": {},
   "outputs": [
    {
     "name": "stdout",
     "output_type": "stream",
     "text": [
      "10\n"
     ]
    }
   ],
   "source": [
    "nums = [10,14,18,21,20,27] #hear there is no number which is divisible by 5 we got\n",
    "for num in nums:\n",
    "    if num % 5 == 0:\n",
    "        print(num)\n",
    "        break\n",
    "    else:\n",
    "        print('Not Found')"
   ]
  },
  {
   "cell_type": "code",
   "execution_count": null,
   "id": "9b42ec18-b902-48b6-ad94-ac6409656d77",
   "metadata": {},
   "outputs": [],
   "source": [
    "# prime number - how to check given number is prime number or not"
   ]
  },
  {
   "cell_type": "code",
   "execution_count": 149,
   "id": "9bda55cd-35e2-4dcf-b104-8dc6e822d0ed",
   "metadata": {},
   "outputs": [
    {
     "name": "stdout",
     "output_type": "stream",
     "text": [
      "Not prime Number\n"
     ]
    }
   ],
   "source": [
    "num = 12\n",
    "for i in range(2,num):\n",
    "    if num % i == 0:\n",
    "        print('Not prime Number')\n",
    "        break\n",
    "    else:\n",
    "        print('Prime Number')"
   ]
  },
  {
   "cell_type": "code",
   "execution_count": 151,
   "id": "2694220d-e0d0-4199-856a-225109d19bb9",
   "metadata": {},
   "outputs": [
    {
     "name": "stdout",
     "output_type": "stream",
     "text": [
      "Prime Number\n",
      "Prime Number\n",
      "Prime Number\n",
      "Prime Number\n",
      "Prime Number\n",
      "Prime Number\n",
      "Prime Number\n",
      "Prime Number\n",
      "Prime Number\n",
      "Prime Number\n",
      "Prime Number\n"
     ]
    }
   ],
   "source": [
    "num = 13\n",
    "for i in range(2,num):\n",
    "    if num % i == 0:\n",
    "        print('Not prime Number')\n",
    "        break\n",
    "    else:\n",
    "        print('Prime Number')"
   ]
  },
  {
   "cell_type": "code",
   "execution_count": null,
   "id": "a5413275-c16a-403a-99b2-7ef72c6323e8",
   "metadata": {},
   "outputs": [],
   "source": []
  }
 ],
 "metadata": {
  "kernelspec": {
   "display_name": "Python 3 (ipykernel)",
   "language": "python",
   "name": "python3"
  },
  "language_info": {
   "codemirror_mode": {
    "name": "ipython",
    "version": 3
   },
   "file_extension": ".py",
   "mimetype": "text/x-python",
   "name": "python",
   "nbconvert_exporter": "python",
   "pygments_lexer": "ipython3",
   "version": "3.12.4"
  }
 },
 "nbformat": 4,
 "nbformat_minor": 5
}
